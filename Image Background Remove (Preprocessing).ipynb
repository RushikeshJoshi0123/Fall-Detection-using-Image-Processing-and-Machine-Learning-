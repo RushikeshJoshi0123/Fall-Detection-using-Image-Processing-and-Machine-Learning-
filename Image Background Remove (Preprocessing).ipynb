{
 "cells": [
  {
   "cell_type": "code",
   "execution_count": 11,
   "id": "d05ec15b",
   "metadata": {},
   "outputs": [],
   "source": [
    "from rembg import remove\n",
    "import cv2\n",
    "import glob\n",
    "import os \n",
    "os.mkdir('----Path------')"
   ]
  },
  {
   "cell_type": "code",
   "execution_count": 12,
   "id": "2cdb31df",
   "metadata": {},
   "outputs": [],
   "source": [
    "image_path = glob.glob('-----path-----/*.jpg')"
   ]
  },
  {
   "cell_type": "code",
   "execution_count": 15,
   "id": "6b066e1b",
   "metadata": {},
   "outputs": [],
   "source": [
    "i=0\n",
    "for image in image_path:\n",
    "    input=cv2.imread(image)\n",
    "    output=remove(input)\n",
    "    cv2.imwrite('-----Path-----/image%02i.jpg'%i,output)  #You can Also Convert images  into .png Format\n",
    "    \n",
    "    i+=1\n",
    "    #cv2.waitKey(100)\n",
    "   # cv2.destroyAllWindows()"
   ]
  },
  {
   "cell_type": "code",
   "execution_count": null,
   "id": "7ab2a9fc",
   "metadata": {},
   "outputs": [],
   "source": []
  }
 ],
 "metadata": {
  "kernelspec": {
   "display_name": "Python 3.10.4 64-bit",
   "language": "python",
   "name": "python3"
  },
  "language_info": {
   "codemirror_mode": {
    "name": "ipython",
    "version": 3
   },
   "file_extension": ".py",
   "mimetype": "text/x-python",
   "name": "python",
   "nbconvert_exporter": "python",
   "pygments_lexer": "ipython3",
   "version": "3.10.4"
  },
  "vscode": {
   "interpreter": {
    "hash": "f61328733e227372b8c0e0ad9ef30207d35085d7040cd969f2440c14b1da8870"
   }
  }
 },
 "nbformat": 4,
 "nbformat_minor": 5
}
